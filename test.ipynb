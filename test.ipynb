{
 "cells": [
  {
   "cell_type": "code",
   "execution_count": 5,
   "metadata": {},
   "outputs": [],
   "source": [
    "import numpy as np\n",
    "from SPRING import Spring"
   ]
  },
  {
   "cell_type": "code",
   "execution_count": 21,
   "metadata": {},
   "outputs": [
    {
     "name": "stdout",
     "output_type": "stream",
     "text": [
      "8e16e05d7d9975ca4980cbdf9f1041d8d0323b9c1191f1dd47388118b106cb85b5caf84cbea4e17bbfe9828acc8240047d2482732f610b91a19034842d0cd907c0e182c50c8e65d6c03ef911ab56926365288120bd9e6460c8befd02a1e845fb77cd3b89d03a027d42e51a5c42d0129d9e732baad4828e25b3c71c87520609761d4f7dfbfa4124237b9a18a8a16e200832e45b39ce75ff5065af19f3c297921b9b38b21f97dc5b16ced155b63f677dfc0d478da1d3e69fcd2d66b8270fca815db1f493c047045960f62baa61228b2f84b45746a5b67e60151f54cf444762748b719838b8be1318b2c1a96d5931e23e52e150b32e12e9b8f428fdcf7ddd4d4e1e\n"
     ]
    }
   ],
   "source": [
    "# ECB 128-128\n",
    "s = Spring(0x7d0e7b4757bcfe5895f1d89e8bfd2b80,128,128,'ECB')\n",
    "# 加密\n",
    "plain_text = '8d340a9963938b74f7a71e9451ab1db8c5f1a45d6b83a283d00930b4ebed224353bedcd2afd268166d30c5dfb7ac8152a2548a79a90b41ff5b74d0345012bd5761adc01518f7d24d666f871694869d037c00d5a6f99e01529cfa5f25a1b2254621c85d6c8949f3a04a2d0d43d27f9a52bcbe2ee943820d06fd628690c6168298f9d95cdee711f3978132fe6d58e0a0c8c8543d4c6f008ba3e476ec7ca686fbd353a664731b98faba7346039d0ef1d6eb098aa9d66660a4afbbfc3af12b49b88196f91e340d232f928931c4dadcf96546e72a1a8f0eea7fb4e9bd17f83ca9e2292a983228a5fdbaa629bae82caa42755ecbfa3a8050e64539d6812c97c1eca154'\n",
    "cipher_text = s.encrypt(plain_text)\n",
    "print(cipher_text)"
   ]
  },
  {
   "cell_type": "code",
   "execution_count": 22,
   "metadata": {},
   "outputs": [
    {
     "name": "stdout",
     "output_type": "stream",
     "text": [
      "8d340a9963938b74f7a71e9451ab1db8c5f1a45d6b83a283d00930b4ebed224353bedcd2afd268166d30c5dfb7ac8152a2548a79a90b41ff5b74d0345012bd5761adc01518f7d24d666f871694869d037c00d5a6f99e01529cfa5f25a1b2254621c85d6c8949f3a04a2d0d43d27f9a52bcbe2ee943820d06fd628690c6168298f9d95cdee711f3978132fe6d58e0a0c8c8543d4c6f008ba3e476ec7ca686fbd353a664731b98faba7346039d0ef1d6eb\n"
     ]
    }
   ],
   "source": [
    "# 解密\n",
    "cipher_text = '8e16e05d7d9975ca4980cbdf9f1041d8d0323b9c1191f1dd47388118b106cb85b5caf84cbea4e17bbfe9828acc8240047d2482732f610b91a19034842d0cd907c0e182c50c8e65d6c03ef911ab56926365288120bd9e6460c8befd02a1e845fb77cd3b89d03a027d42e51a5c42d0129d9e732baad4828e25b3c71c87520609761d4f7dfbfa4124237b9a18a8a16e200832e45b39ce75ff5065af19f3c297921b9b38b21f97dc5b16ced155b63f677dfc'\n",
    "plain_text = s.decrypt(cipher_text)\n",
    "print(plain_text)"
   ]
  }
 ],
 "metadata": {
  "kernelspec": {
   "display_name": "Python 3.8.6 64-bit ('3.8.6')",
   "language": "python",
   "name": "python3"
  },
  "language_info": {
   "codemirror_mode": {
    "name": "ipython",
    "version": 3
   },
   "file_extension": ".py",
   "mimetype": "text/x-python",
   "name": "python",
   "nbconvert_exporter": "python",
   "pygments_lexer": "ipython3",
   "version": "3.8.6"
  },
  "orig_nbformat": 4,
  "vscode": {
   "interpreter": {
    "hash": "2515840804fea508cf99a57ebd6b5ff2fc304fb242883928a3b01607d5ab63db"
   }
  }
 },
 "nbformat": 4,
 "nbformat_minor": 2
}
