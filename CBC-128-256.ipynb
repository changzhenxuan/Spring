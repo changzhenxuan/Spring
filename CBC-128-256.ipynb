{
 "cells": [
  {
   "cell_type": "code",
   "execution_count": 1,
   "metadata": {},
   "outputs": [
    {
     "data": {
      "text/plain": [
       "True"
      ]
     },
     "execution_count": 1,
     "metadata": {},
     "output_type": "execute_result"
    }
   ],
   "source": [
    "import cv2\n",
    "import numpy as np\n",
    "from SPRING import Spring\n",
    "img = cv2.imread('./panda.jpg',cv2.IMREAD_COLOR)\n",
    "plain_data = img.reshape(-1)\n",
    "data_len = len(plain_data)\n",
    "plain_text = ''.join([hex(i)[2:] if len(hex(i)[2:])==2 else '0'+hex(i)[2:] for i in plain_data])\n",
    "\n",
    "s = Spring(0x204098d503b51aee1f73ee884946c073a710fa3d1f6bdef50f8fd2343f77fa5f, 128, 256, 'CBC')\n",
    "cipher_text = s.encrypt(plain_text)\n",
    "cipher_data = [eval('0x'+cipher_text[2*i:2*(i+1)]) for i in range(len(cipher_text)//2)]\n",
    "img_c = np.array(cipher_data).reshape(img.shape)\n",
    "cv2.imwrite('panda_enc_128_256_CBC.jpg',img_c)"
   ]
  },
  {
   "cell_type": "code",
   "execution_count": 2,
   "metadata": {},
   "outputs": [],
   "source": []
  }
 ],
 "metadata": {
  "kernelspec": {
   "display_name": "Python 3.8.6 64-bit ('3.8.6')",
   "language": "python",
   "name": "python3"
  },
  "language_info": {
   "codemirror_mode": {
    "name": "ipython",
    "version": 3
   },
   "file_extension": ".py",
   "mimetype": "text/x-python",
   "name": "python",
   "nbconvert_exporter": "python",
   "pygments_lexer": "ipython3",
   "version": "3.8.6"
  },
  "orig_nbformat": 4,
  "vscode": {
   "interpreter": {
    "hash": "2515840804fea508cf99a57ebd6b5ff2fc304fb242883928a3b01607d5ab63db"
   }
  }
 },
 "nbformat": 4,
 "nbformat_minor": 2
}
